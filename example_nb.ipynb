{
 "cells": [
  {
   "cell_type": "code",
   "execution_count": 6,
   "id": "fbdfe1c7-2097-4823-affd-bee9d7d5adf8",
   "metadata": {},
   "outputs": [
    {
     "name": "stdout",
     "output_type": "stream",
     "text": [
      "['pineapple', 'orange', 'banana', 'apple']\n"
     ]
    }
   ],
   "source": [
    "fruits = [\"apple\", \"banana\", \"orange\", \"pineapple\"]\n",
    "fruits.reverse()\n",
    "print(fruits)"
   ]
  },
  {
   "cell_type": "code",
   "execution_count": 7,
   "id": "4413ae89-f39f-482e-8d3d-e3404aef5446",
   "metadata": {},
   "outputs": [
    {
     "name": "stdout",
     "output_type": "stream",
     "text": [
      "['apple', 'banana', 'orange', 'pineapple', 'spinach', 'potato']\n"
     ]
    }
   ],
   "source": [
    "fruits = [\"apple\", \"banana\", \"orange\", \"pineapple\"]\n",
    "veges = fruits + [\"spinach\", \"potato\"]\n",
    "print(veges)"
   ]
  },
  {
   "cell_type": "code",
   "execution_count": 8,
   "id": "79cd7bb8-c5c4-455b-9e70-83cdd1c1612a",
   "metadata": {},
   "outputs": [
    {
     "ename": "AttributeError",
     "evalue": "'str' object has no attribute 'sort'",
     "output_type": "error",
     "traceback": [
      "\u001b[0;31m---------------------------------------------------------------------------\u001b[0m",
      "\u001b[0;31mAttributeError\u001b[0m                            Traceback (most recent call last)",
      "Cell \u001b[0;32mIn[8], line 2\u001b[0m\n\u001b[1;32m      1\u001b[0m alphabet \u001b[38;5;241m=\u001b[39m \u001b[38;5;124m\"\u001b[39m\u001b[38;5;124mmlkjshatefaldabcdgethruriansldsa\u001b[39m\u001b[38;5;124m\"\u001b[39m\n\u001b[0;32m----> 2\u001b[0m \u001b[43malphabet\u001b[49m\u001b[38;5;241;43m.\u001b[39;49m\u001b[43msort\u001b[49m()\n\u001b[1;32m      3\u001b[0m \u001b[38;5;28mprint\u001b[39m(alphabet)\n",
      "\u001b[0;31mAttributeError\u001b[0m: 'str' object has no attribute 'sort'"
     ]
    }
   ],
   "source": [
    "alphabet = \"mlkjshatefaldabcdgethruriansldsa\"\n",
    "alphabet.sort()\n",
    "print(alphabet)"
   ]
  },
  {
   "cell_type": "code",
   "execution_count": 10,
   "id": "97cca6de-72d9-438b-903a-47a6355b97d1",
   "metadata": {},
   "outputs": [
    {
     "name": "stdout",
     "output_type": "stream",
     "text": [
      "['apple', 'appricot', 'banana', 'orange', 'pineapple', 'potato', 'spinach']\n"
     ]
    }
   ],
   "source": [
    "fruits = [\"apple\", \"banana\", \"orange\", \"pineapple\", \"appricot\"]\n",
    "veges = fruits + [\"spinach\", \"potato\"]\n",
    "veges.sort()\n",
    "print(veges)"
   ]
  },
  {
   "cell_type": "code",
   "execution_count": 11,
   "id": "c502aa5f-ca64-4080-a983-b14fe5ec9b62",
   "metadata": {},
   "outputs": [
    {
     "name": "stdout",
     "output_type": "stream",
     "text": [
      "[9, 8, 7, 6, 5, 4, 3, 2, 1]\n"
     ]
    }
   ],
   "source": [
    "num = [1, 2, 3, 4, 5, 6, 7, 8, 9]\n",
    "num.sort(reverse=True)\n",
    "print(num)"
   ]
  },
  {
   "cell_type": "code",
   "execution_count": 12,
   "id": "ef5e002d-ab45-4f65-951f-8833ac30257c",
   "metadata": {},
   "outputs": [
    {
     "ename": "TypeError",
     "evalue": "'set' object is not subscriptable",
     "output_type": "error",
     "traceback": [
      "\u001b[0;31m---------------------------------------------------------------------------\u001b[0m",
      "\u001b[0;31mTypeError\u001b[0m                                 Traceback (most recent call last)",
      "Cell \u001b[0;32mIn[12], line 2\u001b[0m\n\u001b[1;32m      1\u001b[0m tuple_ex \u001b[38;5;241m=\u001b[39m {\u001b[38;5;124m\"\u001b[39m\u001b[38;5;124mapple\u001b[39m\u001b[38;5;124m\"\u001b[39m, \u001b[38;5;124m\"\u001b[39m\u001b[38;5;124mbanana\u001b[39m\u001b[38;5;124m\"\u001b[39m, \u001b[38;5;124m\"\u001b[39m\u001b[38;5;124morange\u001b[39m\u001b[38;5;124m\"\u001b[39m, \u001b[38;5;124m\"\u001b[39m\u001b[38;5;124mpineapple\u001b[39m\u001b[38;5;124m\"\u001b[39m, \u001b[38;5;124m\"\u001b[39m\u001b[38;5;124mappricot\u001b[39m\u001b[38;5;124m\"\u001b[39m}\n\u001b[0;32m----> 2\u001b[0m \u001b[38;5;28mprint\u001b[39m(\u001b[43mtuple_ex\u001b[49m\u001b[43m[\u001b[49m\u001b[38;5;241;43m0\u001b[39;49m\u001b[43m]\u001b[49m)\n",
      "\u001b[0;31mTypeError\u001b[0m: 'set' object is not subscriptable"
     ]
    }
   ],
   "source": [
    "tuple_ex = {\"apple\", \"banana\", \"orange\", \"pineapple\", \"appricot\"}\n",
    "print(tuple_ex[0])"
   ]
  },
  {
   "cell_type": "code",
   "execution_count": 13,
   "id": "172f75fc-696d-4488-8293-2dd5024e160b",
   "metadata": {},
   "outputs": [
    {
     "ename": "SyntaxError",
     "evalue": "invalid syntax (1526910852.py, line 2)",
     "output_type": "error",
     "traceback": [
      "\u001b[0;36m  Cell \u001b[0;32mIn[13], line 2\u001b[0;36m\u001b[0m\n\u001b[0;31m    print(tuple_ex{0})\u001b[0m\n\u001b[0m                  ^\u001b[0m\n\u001b[0;31mSyntaxError\u001b[0m\u001b[0;31m:\u001b[0m invalid syntax\n"
     ]
    }
   ],
   "source": [
    "tuple_ex = {\"apple\", \"banana\", \"orange\", \"pineapple\", \"appricot\"}\n",
    "print(tuple_ex{0})"
   ]
  },
  {
   "cell_type": "code",
   "execution_count": 14,
   "id": "bbc7f9f6-7746-44aa-a9f8-f3d9f4053bd4",
   "metadata": {},
   "outputs": [
    {
     "ename": "TypeError",
     "evalue": "'set' object is not subscriptable",
     "output_type": "error",
     "traceback": [
      "\u001b[0;31m---------------------------------------------------------------------------\u001b[0m",
      "\u001b[0;31mTypeError\u001b[0m                                 Traceback (most recent call last)",
      "Cell \u001b[0;32mIn[14], line 2\u001b[0m\n\u001b[1;32m      1\u001b[0m tuple_ex \u001b[38;5;241m=\u001b[39m {\u001b[38;5;124m\"\u001b[39m\u001b[38;5;124mapple\u001b[39m\u001b[38;5;124m\"\u001b[39m, \u001b[38;5;124m\"\u001b[39m\u001b[38;5;124mbanana\u001b[39m\u001b[38;5;124m\"\u001b[39m, \u001b[38;5;124m\"\u001b[39m\u001b[38;5;124morange\u001b[39m\u001b[38;5;124m\"\u001b[39m, \u001b[38;5;124m\"\u001b[39m\u001b[38;5;124mpineapple\u001b[39m\u001b[38;5;124m\"\u001b[39m, \u001b[38;5;124m\"\u001b[39m\u001b[38;5;124mappricot\u001b[39m\u001b[38;5;124m\"\u001b[39m}\n\u001b[0;32m----> 2\u001b[0m \u001b[38;5;28mprint\u001b[39m(\u001b[43mtuple_ex\u001b[49m\u001b[43m[\u001b[49m\u001b[38;5;241;43m1\u001b[39;49m\u001b[43m]\u001b[49m)\n",
      "\u001b[0;31mTypeError\u001b[0m: 'set' object is not subscriptable"
     ]
    }
   ],
   "source": [
    "tuple_ex = {\"apple\", \"banana\", \"orange\", \"pineapple\", \"appricot\"}\n",
    "print(tuple_ex[1])"
   ]
  },
  {
   "cell_type": "code",
   "execution_count": 21,
   "id": "f1d73bf7-b089-406c-83e6-1f2bc917ae1b",
   "metadata": {},
   "outputs": [
    {
     "name": "stdout",
     "output_type": "stream",
     "text": [
      "['apple', 'banana', 'orange', 'pineapple', 'appricot', 'blueberry']\n"
     ]
    }
   ],
   "source": [
    "list_ex = [\"apple\", \"banana\", \"orange\", \"pineapple\", \"appricot\"]\n",
    "list_ex.append(\"blueberry\")\n",
    "print(list_ex)"
   ]
  },
  {
   "cell_type": "code",
   "execution_count": 24,
   "id": "8284397b-536f-4934-bace-4da61b44d808",
   "metadata": {},
   "outputs": [
    {
     "name": "stdout",
     "output_type": "stream",
     "text": [
      "['Hamza', 'Anwar', 'Tasnia']\n"
     ]
    }
   ],
   "source": [
    "# list objects are editable and assigned in square brackets []\n",
    "name = [\"Hamza\", \"Anwar\", \"Tasnia\", \"Sultana\"]\n",
    "print(name[:3])"
   ]
  },
  {
   "cell_type": "code",
   "execution_count": 33,
   "id": "401f65cf-ffdc-4c27-bcfa-484c24fe2132",
   "metadata": {},
   "outputs": [
    {
     "name": "stdout",
     "output_type": "stream",
     "text": [
      "<class 'list'>\n"
     ]
    }
   ],
   "source": [
    "# tuples are not editable and are either assigned in paranthesis () or without it since python automatically converts comma-separated values into a tuple\n",
    "name = [(\"Hamza\", \"Anwar\", \"Tasnia\", \"Sultana\")]\n",
    "print(type(name))"
   ]
  },
  {
   "cell_type": "code",
   "execution_count": 38,
   "id": "9ffea808-c362-477d-b9f8-ce0870c46e37",
   "metadata": {},
   "outputs": [
    {
     "name": "stdout",
     "output_type": "stream",
     "text": [
      "<built-in method index of tuple object at 0x7f72b2d24040>\n"
     ]
    }
   ],
   "source": [
    "a_tuple = 23, \"hello\", False, None, 23, 27, \"hello\"\n",
    "print(a_tuple.index)"
   ]
  },
  {
   "cell_type": "code",
   "execution_count": 47,
   "id": "c38d0400-0cfc-4a74-a7d0-cc43dee8edd4",
   "metadata": {},
   "outputs": [
    {
     "name": "stdout",
     "output_type": "stream",
     "text": [
      "{'name': 'John Doe', 'sex': 'male', 'age': 32, 'married': True}\n"
     ]
    },
    {
     "data": {
      "text/plain": [
       "dict_values(['John Doe', 'male', 32, True])"
      ]
     },
     "execution_count": 47,
     "metadata": {},
     "output_type": "execute_result"
    }
   ],
   "source": [
    "# Dictionary is an unordered collection of items. Each item store in a dictionary has a key and value\n",
    "person1 = {\n",
    "    'name' : 'John Doe',\n",
    "    'sex' : 'male',\n",
    "    'age' : 32,\n",
    "    'married' : True\n",
    "}\n",
    "\n",
    "print(person1)\n",
    "person1['name']\n",
    "person1.keys()\n",
    "person1.values()"
   ]
  },
  {
   "cell_type": "code",
   "execution_count": 55,
   "id": "9ae66298-6049-4bd4-840c-a0b5c16c716b",
   "metadata": {},
   "outputs": [
    {
     "name": "stdout",
     "output_type": "stream",
     "text": [
      "we are inside an if block\n",
      "The given number 34 is even.\n"
     ]
    }
   ],
   "source": [
    "number = 34\n",
    "if number % 2 == 0:\n",
    "    print(\"we are inside an if block\")\n",
    "    print(f\"The given number {number} is even.\")"
   ]
  },
  {
   "cell_type": "code",
   "execution_count": 56,
   "id": "1931e474-661b-436c-a0cf-8b99c7646f1c",
   "metadata": {},
   "outputs": [
    {
     "name": "stdout",
     "output_type": "stream",
     "text": [
      "Factorial of 1000 is 1001\n",
      "CPU times: user 427 µs, sys: 131 µs, total: 558 µs\n",
      "Wall time: 565 µs\n"
     ]
    }
   ],
   "source": [
    "%%time\n",
    "result = 1\n",
    "i = 1\n",
    "\n",
    "while i <= 1000:\n",
    "    result = result + 1\n",
    "    i += 1\n",
    "print(\"Factorial of 1000 is {}\".format(result))"
   ]
  },
  {
   "cell_type": "code",
   "execution_count": null,
   "id": "1a20102e-a701-4a4c-bee2-311673e1ec1a",
   "metadata": {},
   "outputs": [],
   "source": [
    "result = 1\n",
    "i = 1\n",
    "\n",
    "while i > 0:\n",
    "    result *= i\n",
    "    i += 1"
   ]
  },
  {
   "cell_type": "code",
   "execution_count": null,
   "id": "9e39ab1e-82ae-40d3-ac71-c23bb58bbf0f",
   "metadata": {},
   "outputs": [],
   "source": []
  }
 ],
 "metadata": {
  "kernelspec": {
   "display_name": "Python 3 (ipykernel)",
   "language": "python",
   "name": "python3"
  },
  "language_info": {
   "codemirror_mode": {
    "name": "ipython",
    "version": 3
   },
   "file_extension": ".py",
   "mimetype": "text/x-python",
   "name": "python",
   "nbconvert_exporter": "python",
   "pygments_lexer": "ipython3",
   "version": "3.8.10"
  }
 },
 "nbformat": 4,
 "nbformat_minor": 5
}
