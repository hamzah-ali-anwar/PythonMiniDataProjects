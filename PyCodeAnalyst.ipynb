{
 "cells": [
  {
   "cell_type": "code",
   "execution_count": 12,
   "id": "4dd39516-30af-4939-ab76-70d5b6373069",
   "metadata": {},
   "outputs": [
    {
     "name": "stdin",
     "output_type": "stream",
     "text": [
      "Enter your height in cm 122\n"
     ]
    },
    {
     "name": "stdout",
     "output_type": "stream",
     "text": [
      "You can ride\n"
     ]
    },
    {
     "name": "stdin",
     "output_type": "stream",
     "text": [
      "Please enter your age 11\n"
     ]
    },
    {
     "name": "stdout",
     "output_type": "stream",
     "text": [
      "Ticket is $5\n"
     ]
    },
    {
     "name": "stdin",
     "output_type": "stream",
     "text": [
      "Do you want photos y/n? n\n"
     ]
    }
   ],
   "source": [
    "# Programming challenge from 100 days of code\n",
    "height = int(input(\"Enter your height in cm\"))\n",
    "\n",
    "if height > 120:\n",
    "    print(\"You can ride\")\n",
    "    age = int(input(\"Please enter your age\"))\n",
    "    if age < 12:\n",
    "        bill = 5\n",
    "        print(\"Ticket is $5\")\n",
    "    elif age >= 18:\n",
    "        bill = 12\n",
    "        print(\"Ticket is $12\")\n",
    "    else:\n",
    "        bill = 7\n",
    "        print(\"Ticket is $7\")\n",
    "    photos = str(input(\"Do you want photos y/n?\"))\n",
    "    if photos == \"y\":\n",
    "        bill += 3\n",
    "        print(f\"Your total is {bill}\")\n",
    "else:\n",
    "    print(\"You gotta grow taller\")"
   ]
  },
  {
   "cell_type": "code",
   "execution_count": 18,
   "id": "9ac33c7e-0d91-4614-9f1a-b685b1b9a6f3",
   "metadata": {},
   "outputs": [
    {
     "name": "stdout",
     "output_type": "stream",
     "text": [
      "Collecting numpy\n",
      "  Downloading numpy-1.24.4-cp38-cp38-manylinux_2_17_x86_64.manylinux2014_x86_64.whl (17.3 MB)\n",
      "\u001b[K     |████████████████████████████████| 17.3 MB 4.3 MB/s eta 0:00:01\n",
      "\u001b[?25hInstalling collected packages: numpy\n",
      "Successfully installed numpy-1.24.4\n"
     ]
    }
   ],
   "source": [
    "!pip install numpy\n"
   ]
  },
  {
   "cell_type": "code",
   "execution_count": 23,
   "id": "7be1ba51-c63f-4ec7-b633-70bfb3c878c8",
   "metadata": {},
   "outputs": [],
   "source": [
    "# Importing numpy after installing in above step\n",
    "import numpy as np\n",
    "climate_data = np.array([[73, 67, 43],\n",
    "                        [91, 88, 64],\n",
    "                        [87, 134, 58],\n",
    "                        [102, 43, 37],\n",
    "                        [69, 96, 40]])"
   ]
  },
  {
   "cell_type": "code",
   "execution_count": 26,
   "id": "0b45da32-1424-4d38-941b-d90065569035",
   "metadata": {},
   "outputs": [],
   "source": [
    "weights = ([0.3, 0.2, 0.5])"
   ]
  },
  {
   "cell_type": "code",
   "execution_count": 27,
   "id": "1163277c-107d-45b0-9029-6bc75a74b404",
   "metadata": {},
   "outputs": [
    {
     "data": {
      "text/plain": [
       "[0.3, 0.2, 0.5]"
      ]
     },
     "execution_count": 27,
     "metadata": {},
     "output_type": "execute_result"
    }
   ],
   "source": [
    "weights"
   ]
  },
  {
   "cell_type": "code",
   "execution_count": 28,
   "id": "735fb7bc-d147-49b4-a6b4-e9ba56eeeaf4",
   "metadata": {},
   "outputs": [
    {
     "data": {
      "text/plain": [
       "array([[ 73,  67,  43],\n",
       "       [ 91,  88,  64],\n",
       "       [ 87, 134,  58],\n",
       "       [102,  43,  37],\n",
       "       [ 69,  96,  40]])"
      ]
     },
     "execution_count": 28,
     "metadata": {},
     "output_type": "execute_result"
    }
   ],
   "source": [
    "climate_data"
   ]
  },
  {
   "cell_type": "code",
   "execution_count": 29,
   "id": "255cc95d-ec2c-41f8-9a05-198376238a1d",
   "metadata": {},
   "outputs": [
    {
     "data": {
      "text/plain": [
       "array([56.8, 76.9, 81.9, 57.7, 59.9])"
      ]
     },
     "execution_count": 29,
     "metadata": {},
     "output_type": "execute_result"
    }
   ],
   "source": [
    "np.matmul(climate_data, weights)"
   ]
  },
  {
   "cell_type": "code",
   "execution_count": 30,
   "id": "dfb34cdc-7385-421d-bfb7-3b0a7ce3161c",
   "metadata": {},
   "outputs": [
    {
     "data": {
      "text/plain": [
       "array([56.8, 76.9, 81.9, 57.7, 59.9])"
      ]
     },
     "execution_count": 30,
     "metadata": {},
     "output_type": "execute_result"
    }
   ],
   "source": [
    "# another way to run above calculatio\n",
    "climate_data @ weights"
   ]
  },
  {
   "cell_type": "code",
   "execution_count": null,
   "id": "587cbb40-ae1e-48ca-aeee-3b686eb7e911",
   "metadata": {},
   "outputs": [],
   "source": []
  }
 ],
 "metadata": {
  "kernelspec": {
   "display_name": "Python 3 (ipykernel)",
   "language": "python",
   "name": "python3"
  },
  "language_info": {
   "codemirror_mode": {
    "name": "ipython",
    "version": 3
   },
   "file_extension": ".py",
   "mimetype": "text/x-python",
   "name": "python",
   "nbconvert_exporter": "python",
   "pygments_lexer": "ipython3",
   "version": "3.8.10"
  }
 },
 "nbformat": 4,
 "nbformat_minor": 5
}
